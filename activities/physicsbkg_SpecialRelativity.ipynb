{
 "cells": [
  {
   "cell_type": "markdown",
   "metadata": {},
   "source": [
    "# Relativistic Kinematics Tutorial"
   ]
  },
  {
   "cell_type": "markdown",
   "metadata": {},
   "source": [
    "## Brief Intro to Special Relativity"
   ]
  },
  {
   "cell_type": "markdown",
   "metadata": {},
   "source": [
    "Before talking about relativisic kinematics, let's briefly run through Einstein's theories of Special and General Relavitity. Einstein's theory of special relativity was derived from the following two postulates:\n",
    "\n",
    "* Postulate 1: The laws of physics are the same in all inertial reference frames.\n",
    "* Postulate 2: The speed of light in a vacuum is equal to the value $c$, independent of the motion of the source\n",
    "\n",
    "To summarize, the laws of physics do not change regardless of what your perspective is. Nothing can go faster than the speed of light in the universe. Everyone *always* measures the speed of light to be $c$ ($\\approx 3\\times 10^8$ m/s) regardless of how fast or slow one is moving. \n",
    "\n",
    "One consequence of this is that we find that space and time are interwoven into a 4-dimensional fabric known as space-time. This fabric can be bent and stretched which causes changes in how we perceive time.\n",
    "\n",
    "***Keep these ideas in mind***"
   ]
  },
  {
   "cell_type": "markdown",
   "metadata": {},
   "source": [
    "## What is Relativistic Kinematics?"
   ]
  },
  {
   "cell_type": "markdown",
   "metadata": {
    "collapsed": true
   },
   "source": [
    "Relativistic kinematics sounds like a complicated term that the average person would be intimidated by. However, it basically it is just a precise way of calculating things like velocity, momentum, and energy. Usually, we only need to worry about this level of precision when we are dealing with objects moving at incredibly fast speeds. \n",
    "\n",
    "But what is considered a fast speed? \n",
    "\n",
    "You might have heard before that the speed of light is the speed limit of the universe. This means that no object that has mass can reach or exceed that speed (**Sidenote**: This law only says that anything *inside* space cannot exceed this speed. Space itself is actually expanding at an accelerated rate that can be faster than the speed of light!). What can reach the speed of light? Only particles that have a mass of zero can reach the speed of light, therefore only photons, the particles of light, are able to reach this speed. \n",
    "\n",
    "Before we go any further, we need to define a term known as the Lorentz factor which plays a key role in understanding relativistic kinematics. The Lorentz factor tells us how time, length, and relativistic mass change for an object in motion. \n",
    "\n",
    "$$\\gamma = \\frac{1}{\\sqrt{1-\\frac{v^2}{c^2}}} = \\frac{1}{\\sqrt{1-\\beta^2}}$$ $\\beta = \\frac{v}{c}$ tells you the fraction of light speed that the object of interest is moving at. "
   ]
  },
  {
   "cell_type": "markdown",
   "metadata": {},
   "source": [
    "## Time Dilation"
   ]
  },
  {
   "cell_type": "markdown",
   "metadata": {},
   "source": [
    "What is time dilation? To start off, time isn't the same for everyone as you might have thought. Time changes depending on how fast you are travelling as well as the gravitational bodies you are near. The formula to calculate time dilation (considering only speed and not gravitational effects) is: $$\\Delta t = \\frac{\\Delta t'}{\\sqrt{1-\\frac{v^2}{c^2}}} = \\gamma \\Delta t' = \\gamma \\tau$$ $\\Delta t' = \\tau$ is known as the proper time which is the time measured in the reference frame in which the clock is at rest. $\\Delta t$ is defined as the time dilation. \n",
    "\n",
    "From this formula, we can tell that the time that an observer measures in a moving reference frame will always be longer unless that particle is moving at the speed of light. This is because we are multiplying $\\tau$ by a number larger than one!  As you travel at higher speeds, the Lorentz factor decreases, which makes sense because v/c is getting larger. The smallest the Lorentz factor can be is 1, which occurs when the velocity is 0. The largest this factor can be is undefined, or approaching infinity, which occurs when the velocity is equal to the speed of light. Here is a video below that might help you understand this mind-boggling concept better!"
   ]
  },
  {
   "cell_type": "markdown",
   "metadata": {},
   "source": [
    "<a href=\"https://www.youtube.com/watch?v=n2s1-RHuljo\" target=\"_blank\">Time Dilation and the Twin \"Paradox\"</a>\n",
    "\n",
    "<a href=\"https://www.youtube.com/watch?v=n2s1-RHuljo\" target=\"_blank\"><img src=\"http://i3.ytimg.com/vi/n2s1-RHuljo/hqdefault.jpg\" \n",
    "alt=\"IMAGE ALT TEXT HERE\" width=\"480\" border=\"10\" /></a>"
   ]
  },
  {
   "cell_type": "markdown",
   "metadata": {},
   "source": [
    "## A brief aside on General Relativity\n",
    "\n",
    "General relativity is the theory that Einstein developed during the years 1905-1915 and explains the motion of objects due to gravitational effects. It can be summarized as such:\n",
    "\n",
    "*\"Matter tells space how to curve and space tells matter how to move\"* - John Archibald Wheeler\n",
    "\n",
    "This theory tells us that time is also dilated by massive objects. If you have seen the movie *Interstellar* then you have witnessed the effects of general relativity. Being close to a massive object like a stellar black hole (which can be anywhere from a few times to a few millions times the mass of the sun) causes space-time to be stretched massively! Because of this, time happens a lot slower than it would if you were on Earth. The more massive the object, the more space-time is stretched. The more space-time is stretched, the longer it is going to take for time to occur for you.\n",
    "\n",
    "Fun Fact: Since sea level is closer to the center of the Earth where gravity is the strongest, time is technically happening slower than it is on a mountatin. The time difference is infinitesimal, but still not the same!\n",
    "\n",
    "Check out this great visual below of the effect mass has on space-time!\n"
   ]
  },
  {
   "cell_type": "code",
   "execution_count": 7,
   "metadata": {
    "collapsed": false
   },
   "outputs": [
    {
     "data": {
      "text/html": [
       "<img src=\"http://sci.esa.int/science-e-media/img/72/ESA_LISA-Pathfinder_spacetime_curvature_above_orig.jpg\"/>"
      ],
      "text/plain": [
       "<IPython.core.display.Image object>"
      ]
     },
     "execution_count": 7,
     "metadata": {},
     "output_type": "execute_result"
    }
   ],
   "source": [
    "from IPython.display import Image\n",
    "from IPython.core.display import HTML \n",
    "Image(url= \"http://sci.esa.int/science-e-media/img/72/ESA_LISA-Pathfinder_spacetime_curvature_above_orig.jpg\")"
   ]
  },
  {
   "cell_type": "markdown",
   "metadata": {},
   "source": [
    "# Length Contraction"
   ]
  },
  {
   "cell_type": "markdown",
   "metadata": {},
   "source": [
    "As objects approach the speed of light, they contract in the direction of motion! In other words, when a stationary observer measures the length of a rod moving at near the speed of light, they see it as smaller than it is in its actual reference frame. In the reference frame of the rod, the rod is its actual length and time runs normally. It's only when we observe moving reference frames that we notice these differences. The equation to calculate length contraction is:\n",
    "\n",
    "$$L=\\frac{1}{\\gamma}L_p = \\sqrt{1-\\frac{v^2}{c^2}} L_p$$\n",
    "\n",
    "where $L_p$ is the proper length, or the length of the object at rest in a reference frame. It makes sense mathematically that the length is smaller in a moving reference frame because we are dividing by gamma, which is always greater than 1 unless v=c. The effect speed has on length contraction is shown with the baseball figure below."
   ]
  },
  {
   "cell_type": "code",
   "execution_count": 8,
   "metadata": {
    "collapsed": false
   },
   "outputs": [
    {
     "data": {
      "text/html": [
       "<img src=\"http://www.patana.ac.th/secondary/science/anrophysics/relativity_option/images/length_cont1.JPG\"/>"
      ],
      "text/plain": [
       "<IPython.core.display.Image object>"
      ]
     },
     "execution_count": 8,
     "metadata": {},
     "output_type": "execute_result"
    }
   ],
   "source": [
    "from IPython.display import Image\n",
    "from IPython.core.display import HTML \n",
    "Image(url= \"http://www.patana.ac.th/secondary/science/anrophysics/relativity_option/images/length_cont1.JPG\")"
   ]
  },
  {
   "cell_type": "markdown",
   "metadata": {},
   "source": [
    "# Relativistic Energy and Momentum"
   ]
  },
  {
   "cell_type": "markdown",
   "metadata": {},
   "source": [
    "Many of you have probably heard of Albert Einstein's famous equation: $E=mc^2$ It turns out that this isn't always true. $E=mc^2$ is only true for objects at rest! The equation for objects in motion is $E=\\gamma m c^2$ where the Lorentz factor comes into play again. When we multiply $mc^2$ by the Lorentz factor, the mass increases. Therefore, as objects approach the speed of light, they become more massive.\n",
    "\n",
    "Our Newtonian understanding of momentum is also incorrect. In general physics classes, we learn that $p=mv$, however the relativistic momentum changes at near light speeds. Therefore our new formula for momentum is: $$p =\\gamma mv$$ \n",
    "\n",
    "In particle physics, we often don't know the masses of particles, but know the energies and momenta in the x, y, and z directions. CERN can reach energies of up to 13 TeV! At particle accelerators like CERN, we are able to use machines that can accelerate particles to near the speed of light and then collide them. We then study the byproducts of these collisions. Since some particles have shorter lifetimes than others, it is possible that some decay before they reach our detectors. We then have to trace our decay products back to something called the displaced vertex (where the original particle was in space right before it decayed). We are able to calculate the invariant mass (mass of particles at rest in their reference frame) using the following formula:\n",
    "\n",
    "$$E^2=m^2c^4+p^2c^2$$\n",
    "\n",
    "This equation allows us to calculate the masses of particles that arise from these collisions. \n",
    "\n",
    "This equation also proves that although photons have no mass, they still have a momentum! The energy for photons is defined as: $$E = pc$$ We can manipulate the formula and solve for the rest mass as follows:\n",
    "\n",
    "$$m = \\sqrt{E^2 - (p^2_x + p^2_y + p_z^2)}$$\n",
    "\n",
    "Now we can apply our knowledge of time dilation! Since these particles are moving at near the speed of light, time is happening slower for them relative to us. Essentially, particles will have a longer lifetime when they travel at higher speeds. Because of this, they are able to travel greater distances! We can utilize time dilation to observe some particles before they decay and therefore learn more about them.\n",
    "\n",
    "##### Fun Fact: There are other ways of measuring masses of particles\n",
    "\n",
    "In some cases, particles can move faster than the speed of light in different materials! When this happens, a cone of light is given off in the form of Cherenkov radiation. The angle at which this light is given off is directly related to the velocity. Knowing the velocity combined with the momentum, we can measure the mass. "
   ]
  },
  {
   "cell_type": "markdown",
   "metadata": {},
   "source": [
    "<a href=\"https://cds.cern.ch/record/1125472\" target=\"_blank\">Here is a great video explaining how the Large Hadron Collider works at CERN in Geneva, Switzerland</a>\n",
    "\n",
    "<a href=\"https://cds.cern.ch/record/1125472\" target=\"_blank\"><img src=\"https://c1.staticflickr.com/3/2326/2046228644_05507000b3_z.jpg?zz=1\" \n",
    "alt=\"Photo credit: CERN (https://www.flickr.com/photos/11304375@N07/2046228644)\" width=\"480\" border=\"10\" /></a>\n",
    "Photo credit: CERN (https://www.flickr.com/photos/11304375@N07/2046228644)\n"
   ]
  },
  {
   "cell_type": "markdown",
   "metadata": {},
   "source": [
    "#### Some things to keep in mind\n",
    "* When we calculate masses of particles, we write them in terms of $MeV/c^2$ instead of multiplying by $c^2$"
   ]
  },
  {
   "cell_type": "markdown",
   "metadata": {},
   "source": [
    "### Summary"
   ]
  },
  {
   "cell_type": "markdown",
   "metadata": {},
   "source": [
    "* The speed of light is the same for all observers.\n",
    "* Massive objects bend the fabric of space-time.\n",
    "* Crazy things begin to happen when you approach the speed of light! \n",
    "    * Time happens slower\n",
    "    * Objects contract in length \n",
    "    * Mass increases  \n",
    "* We can measure masses of particles given energies and momenta"
   ]
  },
  {
   "cell_type": "markdown",
   "metadata": {},
   "source": [
    "This is a lot to take in all at once, which is why we have provided some great resources below that you can check out to make more sense of these mind-blowing laws of physics! To learn more about the math behind some of these formulas check out Paul Avery's University of Florida lecture notes below."
   ]
  },
  {
   "cell_type": "markdown",
   "metadata": {},
   "source": [
    "<a href=\"https://www.youtube.com/watch?v=NnMIhxWRGNw\" target=\"_blank\">Here's a cool link to a video about Special Relativity. The image is also a link.</a>\n",
    "\n",
    "<a href=\"https://www.youtube.com/watch?v=NnMIhxWRGNw\" target=\"_blank\"><img src=\"https://i.ytimg.com/vi/NnMIhxWRGNw/hqdefault.jpg?custom=true&w=196&h=110&stc=true&jpg444=true&jpgq=90&sp=68&sigh=_LCQE3ecxvENaJHs45OT55-b8dI\" \n",
    "alt=\"IMAGE ALT TEXT HERE\" width=\"480\" border=\"10\" /></a>"
   ]
  },
  {
   "cell_type": "markdown",
   "metadata": {},
   "source": [
    "## Other resources\n",
    "\n",
    "* [Great source explaining Einstein's theories of special and general relativity as well as E=mc^2](http://www.emc2-explained.info/)\n",
    "* [Relativisitc Kinematics I (Paul Avery - University of Florida)](http://www.phys.ufl.edu/~avery/course/4390/f2015/lectures/relativistic_kinematics_1.pdf)\n",
    "* [Relativisitc Kinematics II (Paul Avery - University of Florida)](http://www.phys.ufl.edu/~avery/course/4390/f2015/lectures/relativistic_kinematics_2.pdf)\n",
    "* [Relativistic Mechanics (Wikipedia)](https://en.wikipedia.org/wiki/Relativistic_mechanics)"
   ]
  }
 ],
 "metadata": {
  "anaconda-cloud": {},
  "kernelspec": {
   "display_name": "Python 2",
   "language": "python",
   "name": "python2"
  },
  "language_info": {
   "codemirror_mode": {
    "name": "ipython",
    "version": 2
   },
   "file_extension": ".py",
   "mimetype": "text/x-python",
   "name": "python",
   "nbconvert_exporter": "python",
   "pygments_lexer": "ipython2",
   "version": "2.7.11"
  }
 },
 "nbformat": 4,
 "nbformat_minor": 1
}
