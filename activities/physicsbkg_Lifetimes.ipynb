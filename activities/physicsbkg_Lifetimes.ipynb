{
 "cells": [
  {
   "cell_type": "markdown",
   "metadata": {},
   "source": [
    "# Lifetimes"
   ]
  },
  {
   "cell_type": "markdown",
   "metadata": {},
   "source": [
    "<h3>Learning goals</h3>\n",
    "<ul>\n",
    "    <li>Relativistic kinematics.\n",
    "    <li>Standard model particles.\n",
    "    <li>Special Relativity.\n",
    "</ul>"
   ]
  },
  {
   "cell_type": "markdown",
   "metadata": {},
   "source": [
    "<b>Background</b>\n",
    "\n",
    "Every type of particle has different characteristics. They each have different masses, lifetimes, decay methods and many other properties. \n",
    "\n",
    "To find the distance a particle travels in one lifetime, you need to know the lifetime of the particle and the speed of the particle. Classically, the formula to find the distance travelled in one lifetime is $ d= vt. $ Where $v$ is the speed of light and $t$ is the time the particle lives before it decays. \n",
    "\n",
    "However, in many particle physics experiments, the particles are moving close to (but always less than!) the speed of light and this means that they experience [time dilation](https://en.wikipedia.org/wiki/Time_dilation), which means their internal clocks run more slowly. \n",
    "\n",
    "Suppose a particle lives for the length of time equal to its [mean lifetime](http://hyperphysics.phy-astr.gsu.edu/hbase/nuclear/meanlif.html). This quantity is defined in the particle's rest frame, which means that the time that we measure in the lab (in our particle physics experiment) is generally longer. The really useful quantity we are looking for is the flight-length: the distance the particle travels between the time it is created and the time it decays. This flight-length is longer in the lab, because of the time dilation effect. The distance measured in the lab is the [mean free path](http://geant4.web.cern.ch/geant4/G4UsersDocuments/UsersGuides/PhysicsReferenceManual/html/node13.html) and is given by\n",
    "\n",
    "$$d = \\gamma \\beta c \\tau$$\n",
    "\n",
    "where $\\beta = v/c$ and $\\gamma = \\frac{1}{\\sqrt{1-\\beta^2}}$."
   ]
  },
  {
   "cell_type": "markdown",
   "metadata": {},
   "source": [
    "<b>Let's code!</b>\n",
    "\n",
    "Here is a sample code that creates a table of the lifetime and distance traveled in one lifetime for three different particles, but the distance is calculated incorrectly. "
   ]
  },
  {
   "cell_type": "code",
   "execution_count": null,
   "metadata": {
    "collapsed": false
   },
   "outputs": [],
   "source": [
    "particles = [\"B+/-\",\"D+/-\",\"J/Psi\"]\n",
    "\n",
    "lifetimes = [1.64e-12,1.4e-12,7e-21]\n",
    "\n",
    "c = 3e8 # m/s\n",
    "\n",
    "v = c\n",
    "\n",
    "for p,l in zip(particles,lifetimes):\n",
    "    distance = v*l\n",
    "    print \"%-5s  lifetime=%4.2e s     distance traveled=%4.2e m\" % (p,l,distance)"
   ]
  },
  {
   "cell_type": "markdown",
   "metadata": {},
   "source": [
    "<h3>Particles</h3>\n",
    "<ul>\n",
    "<li>$\\mu^\\pm$\n",
    "    <li>$\\tau^\\pm$\n",
    "    <li>$\\pi^\\pm$\n",
    "    <li>$\\pi^0$\n",
    "    <li>$\\rho^0$\n",
    "    <li>$K^\\pm$\n",
    "    <li>$K^0_{\\rm short}$\n",
    "    <li>$K^0_{\\rm long}$\n",
    "    <li>$K^*(892)$\n",
    "    <li>$D^\\pm$\n",
    "    <li>$B^\\pm$\n",
    "    <li>$B0$\n",
    "    <li>$J/ \\psi$\n",
    "    <li>$\\Upsilon(1S)$\n",
    "    <li>proton\n",
    "    <li>neutron\n",
    "    <li>$\\Delta^+$\n",
    "    <li>$\\Lambda^0$\n",
    "    <li>$\\Lambda_c$\n",
    "</ul>"
   ]
  },
  {
   "cell_type": "markdown",
   "metadata": {},
   "source": [
    "<h2><font color=\"red\">Challenge!</font></h2>\n",
    "\n",
    "Finish the table for every particle listed above with an output of the particle's name, the lifetime, the mass,  the momentum, and how far they travel in one lifetime assuming a momentum of 1 GeV/c, 10 GeV/c, and 100 GeV/c. You may need the following relativistic relationships. \n",
    "\n",
    "$$\\vec{\\beta} = \\frac{\\vec{pc}}{E} \\qquad \\qquad E^2 = (mc^2)^2 + (pc)^2$$"
   ]
  },
  {
   "cell_type": "code",
   "execution_count": null,
   "metadata": {
    "collapsed": false
   },
   "outputs": [],
   "source": [
    "# Your code here"
   ]
  },
  {
   "cell_type": "markdown",
   "metadata": {},
   "source": [
    "The scale of many modern physics detectors ranges from the order of centimeters to 10's of meters. Given that information, what particles do you think will actually live long enough to travel <i>through</i> parts of the detector?"
   ]
  },
  {
   "cell_type": "code",
   "execution_count": null,
   "metadata": {
    "collapsed": false
   },
   "outputs": [],
   "source": [
    "# Your code here"
   ]
  },
  {
   "cell_type": "markdown",
   "metadata": {},
   "source": [
    "Which particles will decay (on average) before they reach the detectors? This means that these particles have to be reconstructed from their decay products. \n"
   ]
  },
  {
   "cell_type": "code",
   "execution_count": null,
   "metadata": {
    "collapsed": false
   },
   "outputs": [],
   "source": [
    "# Your code here"
   ]
  },
  {
   "cell_type": "markdown",
   "metadata": {
    "collapsed": false
   },
   "source": [
    "Make a plot where the x-axis is the names of the above particles (or a number corresponding to each, where the number/particle relationship is clearly identified) and the y-axis is the lifetime of the particle. Color code the data points according to whether the primary decay is EM, weak, or strong. {\\it Do not plot the proton and neutron on this plot}. Do you see the \"pattern\"? You may need to use a log-scale for the y-axis. "
   ]
  },
  {
   "cell_type": "code",
   "execution_count": null,
   "metadata": {
    "collapsed": true
   },
   "outputs": [],
   "source": [
    "# Your code here"
   ]
  }
 ],
 "metadata": {
  "anaconda-cloud": {},
  "kernelspec": {
   "display_name": "Python 2",
   "language": "python",
   "name": "python2"
  },
  "language_info": {
   "codemirror_mode": {
    "name": "ipython",
    "version": 2
   },
   "file_extension": ".py",
   "mimetype": "text/x-python",
   "name": "python",
   "nbconvert_exporter": "python",
   "pygments_lexer": "ipython2",
   "version": "2.7.12"
  }
 },
 "nbformat": 4,
 "nbformat_minor": 0
}
