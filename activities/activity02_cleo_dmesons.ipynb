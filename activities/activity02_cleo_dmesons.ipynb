{
 "cells": [
  {
   "cell_type": "markdown",
   "metadata": {},
   "source": [
    "# Reconstructing $D$ mesons"
   ]
  },
  {
   "cell_type": "markdown",
   "metadata": {},
   "source": [
    "<h3>Learning goals</h3>\n",
    "<ul>\n",
    "    <li>Relativistic kinematics.\n",
    "    <li>Mesons.\n",
    "</ul>"
   ]
  },
  {
   "cell_type": "markdown",
   "metadata": {},
   "source": [
    "To prepare for this activity, you should already have looked at the activity on [reconstructing particles from their decay products](https://github.com/particle-physics-playground/playground/blob/master/activities/activity01_cms_dimuons.ipynb).\n",
    "\n",
    "After you are familiar with those activities, use the [download more data notebook](https://github.com/particle-physics-playground/playground/blob/master/activities/codebkg_DownloadData.ipynb) and grab the Monte Carlo file that simulates the following decay:\n",
    "\n",
    "$$D^+ \\rightarrow K^- \\pi^+ \\pi^+$$ \n",
    "Also grab the CLEO data file. \n",
    "\n",
    "Your challenge is to reconstruct the $D^+$ meson in the Monte Carlo and then go to the data and see if you can find the $D^+$ in the same decay mode. Things to think about:\n",
    "\n",
    "* Make sure you deal with all possible $K\\pi\\pi$ combinations.\n",
    "* How much background is there under the peak in the data? How might you eliminate it? Can you eliminate all of it?\n",
    "* Is there \"structure\" in the $K\\pi$ systems? That is, when you plot the invariant mass of the $K\\pi$ system, do you see any peaks?\n",
    "* Can you find the other decay modes in the data that you have MC for? \n",
    "\n",
    "Have fun and good luck!"
   ]
  },
  {
   "cell_type": "code",
   "execution_count": null,
   "metadata": {},
   "outputs": [],
   "source": [
    "# Your code here"
   ]
  },
  {
   "cell_type": "code",
   "execution_count": null,
   "metadata": {},
   "outputs": [],
   "source": []
  }
 ],
 "metadata": {
  "kernelspec": {
   "display_name": "Python 3",
   "language": "python",
   "name": "python3"
  },
  "language_info": {
   "codemirror_mode": {
    "name": "ipython",
    "version": 3
   },
   "file_extension": ".py",
   "mimetype": "text/x-python",
   "name": "python",
   "nbconvert_exporter": "python",
   "pygments_lexer": "ipython3",
   "version": "3.6.5"
  }
 },
 "nbformat": 4,
 "nbformat_minor": 1
}
