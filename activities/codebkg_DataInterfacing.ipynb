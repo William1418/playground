{
 "cells": [
  {
   "cell_type": "markdown",
   "metadata": {
    "colab_type": "text",
    "id": "mas4lT9b-Wpd"
   },
   "source": [
    "This notebook describes how to use the provided tools to interface with the data. It goes over the process of installing the tools, retrieving the data, and opening the data within a notebook.\n",
    "<br>\n",
    "<br>\n",
    "\n",
    "# Importing the tools and data#\n",
    "[Video Tutorial on how to import tools into Jupyter](https://www.youtube.com/watch?v=dWzWwhLmJgw)\n",
    "<br>\n",
    "<br>\n",
    "If you have worked with python notebooks before, you are probably familiar with the more basic included libraries. While you may not use all of their functionality for every activity, they are a very useful option to have available. We can bring them in with the standard `import` command.\n",
    "\n"
   ]
  },
  {
   "cell_type": "code",
   "execution_count": null,
   "metadata": {
    "colab": {
     "autoexec": {
      "startup": false,
      "wait_interval": 0
     }
    },
    "colab_type": "code",
    "id": "pbG3iafL-Q3G"
   },
   "outputs": [],
   "source": [
    "import numpy as np\n",
    "import math as math\n",
    "import matplotlib.pylab as plt\n",
    "%matplotlib notebook"
   ]
  },
  {
   "cell_type": "markdown",
   "metadata": {
    "colab_type": "text",
    "id": "OBd1E0INk29w"
   },
   "source": [
    "Now we need the particle physics specific libraries. If you installed the libraries from the command shell properly as shown in the [local setup tutorial](https://www.youtube.com/watch?v=oQXFZU9RuCY), then most of the work needed to use these should already be done. From here it should be as simple as using the `import` command like for the included libraries.\n",
    "<br>\n",
    "<br>\n",
    "You will also need to bring in the file downloading tool from the `file_download_tools.py` file included in this directory. The function we need will allow you to grab files from the web and download them for use in these notebooks."
   ]
  },
  {
   "cell_type": "code",
   "execution_count": null,
   "metadata": {
    "colab": {
     "autoexec": {
      "startup": false,
      "wait_interval": 0
     }
    },
    "colab_type": "code",
    "id": "Agx3j5tIk2hi",
    "scrolled": true
   },
   "outputs": [],
   "source": [
    "import h5hep \n",
    "import pps_tools as hep\n",
    "\n",
    "from file_download_tools import download_file"
   ]
  },
  {
   "cell_type": "markdown",
   "metadata": {},
   "source": [
    "With all of the tools imported, we now need our data files. While there are a few small test files included in the `playground/data` directory already, most of the files you will need for the activities are located on [this webpage](http://www.sos.siena.edu/~mbellis/ppp_data). To download these files into the `data` folder, we use the `download_file` function we imported. Here, we use a file from the CMS top quark analysis as an example."
   ]
  },
  {
   "cell_type": "code",
   "execution_count": null,
   "metadata": {},
   "outputs": [],
   "source": [
    "url = 'http://www.sos.siena.edu/~mbellis/ppp_data/mc_ww.hdf5'\n",
    "download_file(url)"
   ]
  },
  {
   "cell_type": "markdown",
   "metadata": {
    "colab_type": "text",
    "id": "tqwD6iXYpglx"
   },
   "source": [
    "You'll notice that the files we are using are in the `.hdf5` format; this filetype is often used in particle physics for compressing large data files. To unpack these files into a format Python will understand, however, we will use the `h5hep` tools:"
   ]
  },
  {
   "cell_type": "code",
   "execution_count": null,
   "metadata": {
    "colab": {
     "autoexec": {
      "startup": false,
      "wait_interval": 0
     }
    },
    "colab_type": "code",
    "id": "2tyXaOg_pgqb"
   },
   "outputs": [],
   "source": [
    "data,event = h5hep.load('../data/mc_ww.hdf5')"
   ]
  },
  {
   "cell_type": "markdown",
   "metadata": {
    "colab_type": "text",
    "id": "3VrrK-TZDBG1"
   },
   "source": [
    "Now you should have all the tools you need to start interfacing with and analyzing the data. \n",
    "<br>\n",
    "<br>\n",
    "# Interfacing with the data#\n",
    "[Video overview on data interfacing](https://www.youtube.com/watch?v=tI2foOcuRVM)\n",
    "<br>\n",
    "## Reading data and navigating lists##\n",
    "The ```h5hep``` tools we used to unpack the data files puts the data all into lists that are accessible with dictionaries. You can view all the of the dictionary entries the data is tagged with using the following command (this is entirely optional, and simply gives you an idea of what kind of data the file may have contained)."
   ]
  },
  {
   "cell_type": "code",
   "execution_count": null,
   "metadata": {
    "colab": {
     "autoexec": {
      "startup": false,
      "wait_interval": 0
     }
    },
    "colab_type": "code",
    "id": "nfjWqWiDDBLT"
   },
   "outputs": [],
   "source": [
    "# Print the keys to see what is in the dictionary   OPTIONAL\n",
    "for key in event.keys():\n",
    "    print(key)"
   ]
  },
  {
   "cell_type": "markdown",
   "metadata": {
    "colab_type": "text",
    "id": "W4zWeTnmDBRA"
   },
   "source": [
    "To organize the data in a way that makes it easy to find what you need, you will need to use the ```hep``` tools we imported. This can be done in several ways. \n",
    "<br>\n",
    "### Simple way###\n",
    "The first way uses less commands, but gives you less control over how much data you are using. This command organizes ALL of the data, so if you are using a large data file, this can take a long time. However, it is usually the best choice if you want to use all the data. \n",
    "<br>\n",
    "<br>\n",
    "NOTE: This command will need to change depending on which experiment your activity is aligned with. For instance, the top quark activity uses CMS tools, so for the ```experiment``` argument in ```get_collisions```, we put ```'CMS'```. The other possible arguments would be ```'CLEO'``` and ```'BaBar'```."
   ]
  },
  {
   "cell_type": "code",
   "execution_count": null,
   "metadata": {
    "colab": {
     "autoexec": {
      "startup": false,
      "wait_interval": 0
     }
    },
    "colab_type": "code",
    "id": "65dDlZPpDBWJ"
   },
   "outputs": [],
   "source": [
    "infile = '../data/mc_ww.hdf5'\n",
    "\n",
    "collisions = hep.get_collisions(infile,experiment='CMS',verbose=False)\n",
    "print(len(collisions), \" collisions\")  # This line is optional, and simply tells you how many events are in the file."
   ]
  },
  {
   "cell_type": "markdown",
   "metadata": {
    "colab_type": "text",
    "id": "GB81s26YJ4Ql"
   },
   "source": [
    "This returns a list called ```collisions``` which has all of the collision events as entries. Each event is in turn its own list whose entries are the different types of particles involved in that collision. These are also lists, containing each individual particle of that particular type as entries, which are also lists of the four-momentum and other characteristics of each particle. \n",
    "<br>\n",
    "This can be a bit complicated until you learn to work with it, so we'll try a visualization as an example:"
   ]
  },
  {
   "cell_type": "code",
   "execution_count": null,
   "metadata": {
    "colab": {
     "autoexec": {
      "startup": false,
      "wait_interval": 0
     }
    },
    "colab_type": "code",
    "id": "cEbVWQsyJ4Ud"
   },
   "outputs": [],
   "source": [
    "second_collision = collisions[1]   # the first event \n",
    "print(\"Second event: \",second_collision)\n",
    "all_photojetns = second_collision['jets']    # all of the jets in the first event\n",
    "print(\"All jets: \",all_jets)\n",
    "first_jet = all_jets[0]    # the first jet in the first event\n",
    "print(\"First jet: \",first_jet)   \n",
    "jet_energy = first_jet['e']      # the energy of the first photon\n",
    "print(\"First jet's energy: \",jet_energy)"
   ]
  },
  {
   "cell_type": "markdown",
   "metadata": {
    "colab_type": "text",
    "id": "towgZNaXJ4aD"
   },
   "source": [
    "You might notice that each individual event is callable from all collisions by is entry number, as are the individual particles from within their lists of particle types. However, the particle types themselves are only callable from the event list by their names. The characteristics of each particle are also only callable from their lists by the name of the characteristic. The exact dictionary entry needed to call them can be referenced by printing ```event.keys``` as above."
   ]
  },
  {
   "cell_type": "markdown",
   "metadata": {
    "colab_type": "text",
    "id": "ku6h5-c9kY1-"
   },
   "source": [
    "Because ```get_collisions``` puts ALL of the data in a list, to do you analysis, you can simply call everything you need from this one list. For instance, if we wanted to find the energies of all the jets in the entire list of collisions, we could do so using loops:"
   ]
  },
  {
   "cell_type": "code",
   "execution_count": null,
   "metadata": {
    "colab": {
     "autoexec": {
      "startup": false,
      "wait_interval": 0
     }
    },
    "colab_type": "code",
    "id": "YFnpDXwHJ4e3"
   },
   "outputs": [],
   "source": [
    "energies = []\n",
    "\n",
    "for collision in collisions:          # loops over all the events in the file\n",
    "    jets = collision['jets']      # gets the list of all photons in the event\n",
    "  \n",
    "    for jet in jets:           # loops over each photon in the current event\n",
    "        e = jet['e']                # gets the energy of the photon\n",
    "    \n",
    "        energies.append(e)             # puts the energy in a list"
   ]
  },
  {
   "cell_type": "markdown",
   "metadata": {
    "colab_type": "text",
    "id": "M-v4vyHWJ4iz"
   },
   "source": [
    "### More involved way###\n",
    "Alternatively, you can use the following series of commands to organize the data. It is a little more involved, but gives you more control over the data. For instance, it gives you the ability to only use some of the events rather than all of them, which also would decrease some of the computing time. \n",
    "\n"
   ]
  },
  {
   "cell_type": "code",
   "execution_count": null,
   "metadata": {
    "colab": {
     "autoexec": {
      "startup": false,
      "wait_interval": 0
     }
    },
    "colab_type": "code",
    "id": "WMN46ZjzJ4m2"
   },
   "outputs": [],
   "source": [
    "infile = '../data/mc_ww.hdf5' \n",
    "\n",
    "alldata = hep.get_all_data(infile,verbose=False)\n",
    "nentries = hep.get_number_of_entries(alldata)\n",
    "\n",
    "print(\"# entries: \",nentries)   # This optional line tells you how many events are in the file\n"
   ]
  },
  {
   "cell_type": "markdown",
   "metadata": {
    "colab_type": "text",
    "id": "rVVNlP7IuGq6"
   },
   "source": [
    "The above commands do not actually make the data directly usable, we need one more step for that, which is the ```get_collision``` function. This function is different from the ```get_collisions``` function used in the simpler method in that it only pulls out the information of a single event rather than all of them. This means that to get information from multiple events, you will need to use this command in a loop, for which you can define a range that determines what events you actualy want to use.\n",
    "<br>\n",
    "<br>\n",
    "NOTE: Depending on which activity you are doing, you will have to change the ```experiment``` argument to ```'CMS'```, ```'CLEO'```, or ```'BaBar'```. You will also need to change the ```entry_number``` argument to be the same variable you call in the loop.\n",
    "\n"
   ]
  },
  {
   "cell_type": "code",
   "execution_count": null,
   "metadata": {
    "colab": {
     "autoexec": {
      "startup": false,
      "wait_interval": 0
     }
    },
    "colab_type": "code",
    "id": "_rQDLaoduGvN"
   },
   "outputs": [],
   "source": [
    "for entry in range(nentries):      # This range will loop over ALL of the events\n",
    "    collision = hep.get_collision(alldata,entry_number=entry,experiment='CMS')\n",
    "\n",
    "for entry in range(0,int(nentries/2)):     # This range will loop over the first half of the events\n",
    "    collision = hep.get_collision(alldata,entry_number=entry,experiment='CMS')\n",
    "    \n",
    "for entry in range(int(nentries/2),nentries):      # This range will loop over the second half of the events\n",
    "    collision = hep.get_collision(alldata,entry_number=entry,experiment='CMS')\n",
    "    "
   ]
  },
  {
   "cell_type": "markdown",
   "metadata": {
    "colab_type": "text",
    "id": "bjqPYKQjuGzo"
   },
   "source": [
    "Other than that `get_collision` only gets the information from one event rather than all of them, it essentially organizes the information in the same way that `get_collisions` does. You can interact with this data the same way you would for any individual event from the big list of events that `get_collisions` would give you. \n",
    "\n",
    "For instance, to find the energies of all jets in the events we were looking at like we did for the simpler method, it would look very similar. However, you will notice that because we already have to loop over each event to use the `get_collision` function, we can simply nest the rest of our code within this loop."
   ]
  },
  {
   "cell_type": "code",
   "execution_count": null,
   "metadata": {
    "colab": {
     "autoexec": {
      "startup": false,
      "wait_interval": 0
     }
    },
    "colab_type": "code",
    "id": "0DDqEKcduG3q"
   },
   "outputs": [],
   "source": [
    "energies = []\n",
    "\n",
    "for event in range(0,int(nentries/3)):        # Loops over first 3rd of all events\n",
    "    \n",
    "    collision = hep.get_collision(alldata,entry_number=event,experiment='CMS')    # organizes the data so you can interface with it\n",
    "    jets = collision['jets']         # gets the list of all photons in the current event\n",
    "  \n",
    "    for jet in jets:                 # loops over all photons in the event\n",
    "        e = jet['e']                      # gets the energy of the photon\n",
    "    \n",
    "        energies.append(e)                   # adds the energy to a list\n",
    "    \n",
    "  "
   ]
  },
  {
   "cell_type": "code",
   "execution_count": null,
   "metadata": {},
   "outputs": [],
   "source": []
  }
 ],
 "metadata": {
  "colab": {
   "default_view": {},
   "name": "ppp_codebkg_000_datainterfacing.ipynb",
   "provenance": [],
   "version": "0.3.2",
   "views": {}
  },
  "kernelspec": {
   "display_name": "Python 3",
   "language": "python",
   "name": "python3"
  },
  "language_info": {
   "codemirror_mode": {
    "name": "ipython",
    "version": 3
   },
   "file_extension": ".py",
   "mimetype": "text/x-python",
   "name": "python",
   "nbconvert_exporter": "python",
   "pygments_lexer": "ipython3",
   "version": "3.6.5"
  }
 },
 "nbformat": 4,
 "nbformat_minor": 1
}
