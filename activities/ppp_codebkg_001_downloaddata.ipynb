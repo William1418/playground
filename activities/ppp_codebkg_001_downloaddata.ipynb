{
 "cells": [
  {
   "cell_type": "markdown",
   "metadata": {},
   "source": [
    "This notebook provides a way to download data files using the <a href=\"http://docs.python-requests.org/en/latest/\">Python requests library</a>. You'll need to have this library installed on your system to do any work. \n",
    "\n",
    "The first thing we do is import some local helper code that allows us to to download a data file(s), given the url(s).\n",
    "\n",
    "We also define where those data files can be found. \n",
    "\n",
    "***Make sure you execute the cell below before trying download any of the CLEO or CMS data!***"
   ]
  },
  {
   "cell_type": "code",
   "execution_count": null,
   "metadata": {},
   "outputs": [],
   "source": [
    "from file_download_tools import download_file\n",
    "\n",
    "# Hosting site for the data files. \n",
    "host_site = 'http://www.sos.siena.edu/~mbellis/ppp_data/'"
   ]
  },
  {
   "cell_type": "markdown",
   "metadata": {},
   "source": [
    "# <a href = \"https://en.wikipedia.org/wiki/CLEO_(particle_detector)\">CLEO</a> data"
   ]
  },
  {
   "cell_type": "markdown",
   "metadata": {},
   "source": [
    "Here is a list of Monte Carlo (MC) and data files from CLEO. The MC files are for specific decays of $D$ mesons, both charged and neutral. For any given file, there are always (CHECK THIS!!!!!!) two D mesons produced. One decays according to the measured branching fractions, and the other decays through a very specific process. The specific decay is in the name of the file. For example, \n",
    "\n",
    "    Single_D0_to_Kpi_LARGE.dat\n",
    "    \n",
    "would be simulating the following process:\n",
    "\n",
    "$$e^+e^- \\rightarrow D^0 \\bar{D}^0$$\n",
    "$$D^0 \\rightarrow \\textrm{standard decays}$$\n",
    "$$\\bar{D^0} \\rightarrow K^- \\pi^+$$\n",
    "\n",
    "where the $D^0$ and $\\bar{D}^0$ can be exchanged. "
   ]
  },
  {
   "cell_type": "code",
   "execution_count": null,
   "metadata": {},
   "outputs": [],
   "source": [
    "cleo_MC_files = ['Single_D0B_to_KK_ISR_LARGE.dat',\n",
    "'Single_D0B_to_Kenu_ISR_LARGE.dat',\n",
    "'Single_D0B_to_Kpipi0_ISR_LARGE.dat',\n",
    "'Single_D0B_to_Kstenu_ISR_LARGE.dat',\n",
    "'Single_D0B_to_phigamma_ISR_LARGE.dat',\n",
    "'Single_D0B_to_pipi_ISR_LARGE.dat',\n",
    "'Single_D0_to_KK_ISR_LARGE.dat',\n",
    "'Single_D0_to_Kenu_ISR_LARGE.dat',\n",
    "'Single_D0_to_Kpi_LARGE.dat',\n",
    "'Single_D0_to_Kpipi0_ISR_LARGE.dat',\n",
    "'Single_D0_to_Kstenu_ISR_LARGE.dat',\n",
    "'Single_D0_to_phigamma_ISR_LARGE.dat',\n",
    "'Single_D0_to_pipi_ISR_LARGE.dat',\n",
    "'Single_Dm_to_Kpipi_ISR_LARGE.dat',\n",
    "'Single_Dp_to_Kpipi_ISR_LARGE.dat']\n",
    "\n",
    "cleo_data_files = ['data31_100k_LARGE.dat']"
   ]
  },
  {
   "cell_type": "markdown",
   "metadata": {},
   "source": [
    "# Download the data here!"
   ]
  },
  {
   "cell_type": "markdown",
   "metadata": {},
   "source": [
    "The snippet below can be used to download as much or as little of the extra data as you like. It is currently commented now and is set up to download the first two CLEO MC files, but you can edit it to grab whatever data you like. \n",
    "\n",
    "Have fun!"
   ]
  },
  {
   "cell_type": "code",
   "execution_count": null,
   "metadata": {},
   "outputs": [],
   "source": [
    "'''\n",
    "for file in cleo_MC_files[0:2]:\n",
    "    url = \"%s/%s\" % (host_site,file)\n",
    "    download_file(url)\n",
    "''';"
   ]
  },
  {
   "cell_type": "markdown",
   "metadata": {
    "collapsed": true
   },
   "source": [
    "# <a href = \"https://en.wikipedia.org/wiki/Compact_Muon_Solenoid\">CMS</a> data"
   ]
  },
  {
   "cell_type": "markdown",
   "metadata": {},
   "source": [
    "## CMS dimuon data"
   ]
  },
  {
   "cell_type": "code",
   "execution_count": null,
   "metadata": {},
   "outputs": [],
   "source": [
    "cms_data_files = ['dimuons_100k.dat']"
   ]
  },
  {
   "cell_type": "code",
   "execution_count": null,
   "metadata": {},
   "outputs": [],
   "source": [
    "'''\n",
    "for file in cms_data_files[0:1]:\n",
    "    url = \"%s/%s\" % (host_site,file)\n",
    "    download_file(url)\n",
    "''';"
   ]
  },
  {
   "cell_type": "markdown",
   "metadata": {
    "collapsed": true
   },
   "source": [
    "## CMS data for top-quark reconstruction exercise"
   ]
  },
  {
   "cell_type": "code",
   "execution_count": null,
   "metadata": {},
   "outputs": [],
   "source": [
    "cms_top_quark_files = ['data.zip',\n",
    "                       'ttbar.zip',\n",
    "                       'wjets.zip',\n",
    "                       'dy.zip',\n",
    "                       'ww.zip',\n",
    "                       'wz.zip',\n",
    "                       'zz.zip',\n",
    "                       'single_top.zip',\n",
    "                       'qcd.zip']"
   ]
  },
  {
   "cell_type": "code",
   "execution_count": null,
   "metadata": {},
   "outputs": [],
   "source": [
    "'''\n",
    "for file in cms_top_quark_files:\n",
    "    url = \"%s/%s\" % (host_site,file)\n",
    "    download_file(url)\n",
    "''';"
   ]
  },
  {
   "cell_type": "code",
   "execution_count": null,
   "metadata": {
    "collapsed": true
   },
   "outputs": [],
   "source": []
  }
 ],
 "metadata": {
  "kernelspec": {
   "display_name": "Python 3",
   "language": "python",
   "name": "python3"
  },
  "language_info": {
   "codemirror_mode": {
    "name": "ipython",
    "version": 3
   },
   "file_extension": ".py",
   "mimetype": "text/x-python",
   "name": "python",
   "nbconvert_exporter": "python",
   "pygments_lexer": "ipython3",
   "version": "3.6.0"
  }
 },
 "nbformat": 4,
 "nbformat_minor": 1
}
